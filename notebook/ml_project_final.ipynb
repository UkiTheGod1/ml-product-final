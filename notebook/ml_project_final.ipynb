{
 "cells": [
  {
   "cell_type": "markdown",
   "id": "236cb60b",
   "metadata": {},
   "source": [
    "## 📚 Uvoz potrebnih biblioteka"
   ]
  },
  {
   "cell_type": "code",
   "execution_count": null,
   "id": "84ffbfd9",
   "metadata": {},
   "outputs": [],
   "source": [
    "import pandas as pd\n",
    "from sklearn.model_selection import train_test_split\n",
    "from sklearn.feature_extraction.text import TfidfVectorizer\n",
    "from sklearn.linear_model import LogisticRegression\n",
    "from sklearn.naive_bayes import MultinomialNB\n",
    "from sklearn.tree import DecisionTreeClassifier\n",
    "from sklearn.ensemble import RandomForestClassifier\n",
    "from sklearn.svm import LinearSVC\n",
    "from sklearn.metrics import classification_report"
   ]
  },
  {
   "cell_type": "markdown",
   "id": "8e265e35",
   "metadata": {},
   "source": [
    "## 🔗 Uvoz i prikazivanje podataka"
   ]
  },
  {
   "cell_type": "code",
   "execution_count": 122,
   "id": "dbd9f9f7",
   "metadata": {},
   "outputs": [
    {
     "name": "stdout",
     "output_type": "stream",
     "text": [
      "Dataset shape (rows, columns): (35311, 8)\n"
     ]
    }
   ],
   "source": [
    "df = pd.read_csv(\"products.csv\")\n",
    "print(\"Dataset shape (rows, columns):\", df.shape)"
   ]
  },
  {
   "cell_type": "markdown",
   "id": "b2e3937c",
   "metadata": {},
   "source": [
    "## ❌ Izbacivanje nepostojecih vrednosti i nepotrebnih kolona"
   ]
  },
  {
   "cell_type": "code",
   "execution_count": 123,
   "id": "734b1312",
   "metadata": {},
   "outputs": [
    {
     "name": "stdout",
     "output_type": "stream",
     "text": [
      "Dataset shape after dropping NA: (34760, 8)\n"
     ]
    }
   ],
   "source": [
    "df = df.dropna()\n",
    "print(\"Dataset shape after dropping NA:\", df.shape)"
   ]
  },
  {
   "cell_type": "code",
   "execution_count": 124,
   "id": "150d4bb6",
   "metadata": {},
   "outputs": [
    {
     "data": {
      "text/html": [
       "<div>\n",
       "<style scoped>\n",
       "    .dataframe tbody tr th:only-of-type {\n",
       "        vertical-align: middle;\n",
       "    }\n",
       "\n",
       "    .dataframe tbody tr th {\n",
       "        vertical-align: top;\n",
       "    }\n",
       "\n",
       "    .dataframe thead th {\n",
       "        text-align: right;\n",
       "    }\n",
       "</style>\n",
       "<table border=\"1\" class=\"dataframe\">\n",
       "  <thead>\n",
       "    <tr style=\"text-align: right;\">\n",
       "      <th></th>\n",
       "      <th>Product Title</th>\n",
       "      <th>Category Label</th>\n",
       "    </tr>\n",
       "  </thead>\n",
       "  <tbody>\n",
       "    <tr>\n",
       "      <th>0</th>\n",
       "      <td>apple iphone 8 plus 64gb silver</td>\n",
       "      <td>Mobile Phones</td>\n",
       "    </tr>\n",
       "    <tr>\n",
       "      <th>1</th>\n",
       "      <td>apple iphone 8 plus 64 gb spacegrau</td>\n",
       "      <td>Mobile Phones</td>\n",
       "    </tr>\n",
       "    <tr>\n",
       "      <th>2</th>\n",
       "      <td>apple mq8n2b/a iphone 8 plus 64gb 5.5 12mp sim...</td>\n",
       "      <td>Mobile Phones</td>\n",
       "    </tr>\n",
       "    <tr>\n",
       "      <th>3</th>\n",
       "      <td>apple iphone 8 plus 64gb space grey</td>\n",
       "      <td>Mobile Phones</td>\n",
       "    </tr>\n",
       "    <tr>\n",
       "      <th>4</th>\n",
       "      <td>apple iphone 8 plus gold 5.5 64gb 4g unlocked ...</td>\n",
       "      <td>Mobile Phones</td>\n",
       "    </tr>\n",
       "  </tbody>\n",
       "</table>\n",
       "</div>"
      ],
      "text/plain": [
       "                                       Product Title  Category Label\n",
       "0                    apple iphone 8 plus 64gb silver   Mobile Phones\n",
       "1                apple iphone 8 plus 64 gb spacegrau   Mobile Phones\n",
       "2  apple mq8n2b/a iphone 8 plus 64gb 5.5 12mp sim...   Mobile Phones\n",
       "3                apple iphone 8 plus 64gb space grey   Mobile Phones\n",
       "4  apple iphone 8 plus gold 5.5 64gb 4g unlocked ...   Mobile Phones"
      ]
     },
     "execution_count": 124,
     "metadata": {},
     "output_type": "execute_result"
    }
   ],
   "source": [
    "df = df.drop(columns=['product ID', 'Merchant ID', '_Product Code', 'Number_of_Views', 'Merchant Rating', ' Listing Date  '])\n",
    "df.head()"
   ]
  },
  {
   "cell_type": "markdown",
   "id": "34ea5351",
   "metadata": {},
   "source": [
    "## ⚙️ Standardizacija - Spajanje kolona slicnih imena"
   ]
  },
  {
   "cell_type": "code",
   "execution_count": 125,
   "id": "9bc42f15",
   "metadata": {},
   "outputs": [],
   "source": [
    "df.columns = df.columns.str.strip().str.lower().str.replace(\" \", \"_\")"
   ]
  },
  {
   "cell_type": "code",
   "execution_count": 126,
   "id": "71fe0cb2",
   "metadata": {},
   "outputs": [],
   "source": [
    "# print(df[\"category_label\"].value_counts())\n",
    "mapping = {\n",
    "    \"Fridges\": \"Fridge Freezers\",\n",
    "    \"fridge\": \"Fridge Freezers\",\n",
    "    \"Freezers\": \"Fridge Freezers\",\n",
    "    \"Mobile Phone\": \"Mobile Phones\",\n",
    "    \"CPU\": \"CPUs\"\n",
    "}\n",
    "\n",
    "df[\"category_label\"] = df[\"category_label\"].astype(object).replace(mapping).astype(\"category\")"
   ]
  },
  {
   "cell_type": "markdown",
   "id": "a719fb17",
   "metadata": {},
   "source": [
    "## 🪓 Priprema podataka radi ML-a"
   ]
  },
  {
   "cell_type": "code",
   "execution_count": 127,
   "id": "b3be8629",
   "metadata": {},
   "outputs": [],
   "source": [
    "X = df[\"product_title\"]\n",
    "y = df[\"category_label\"]"
   ]
  },
  {
   "cell_type": "code",
   "execution_count": 128,
   "id": "c465e4ff",
   "metadata": {},
   "outputs": [],
   "source": [
    "X_train, X_test, y_train, y_test = train_test_split(\n",
    "    X, y, test_size=0.2, random_state=42, stratify=y\n",
    ")"
   ]
  },
  {
   "cell_type": "markdown",
   "id": "0a67548f",
   "metadata": {},
   "source": [
    "## ℹ️ Vektorizacija i modeli"
   ]
  },
  {
   "cell_type": "code",
   "execution_count": 129,
   "id": "df6f8092",
   "metadata": {},
   "outputs": [],
   "source": [
    "vectorizer = TfidfVectorizer()\n",
    "X_train_vec = vectorizer.fit_transform(X_train)\n",
    "X_test_vec = vectorizer.transform(X_test)"
   ]
  },
  {
   "cell_type": "code",
   "execution_count": 130,
   "id": "4757311e",
   "metadata": {},
   "outputs": [],
   "source": [
    "models = {\n",
    "    \"Logistic Regression\": LogisticRegression(max_iter=1000),\n",
    "    \"Naive Bayes\": MultinomialNB(),\n",
    "    \"Decision Tree\": DecisionTreeClassifier(),\n",
    "    \"Random Forest\": RandomForestClassifier(),\n",
    "    \"Support Vector Machine\": LinearSVC()\n",
    "}"
   ]
  },
  {
   "cell_type": "markdown",
   "id": "e088f458",
   "metadata": {},
   "source": [
    "## 🧪 Provera modela"
   ]
  },
  {
   "cell_type": "code",
   "execution_count": null,
   "id": "b333b04c",
   "metadata": {},
   "outputs": [],
   "source": [
    "for name, model in models.items():\n",
    "    model.fit(X_train_vec, y_train)\n",
    "    y_pred = model.predict(X_test_vec)\n",
    "    print(f\"\\n{name} - Classification Report:\")\n",
    "    print(classification_report(y_test, y_pred))\n",
    "\n",
    "# Support Vector Machine i Naive Bayes daju najbolje rezultate"
   ]
  }
 ],
 "metadata": {
  "kernelspec": {
   "display_name": "Python 3",
   "language": "python",
   "name": "python3"
  },
  "language_info": {
   "codemirror_mode": {
    "name": "ipython",
    "version": 3
   },
   "file_extension": ".py",
   "mimetype": "text/x-python",
   "name": "python",
   "nbconvert_exporter": "python",
   "pygments_lexer": "ipython3",
   "version": "3.13.0"
  }
 },
 "nbformat": 4,
 "nbformat_minor": 5
}
